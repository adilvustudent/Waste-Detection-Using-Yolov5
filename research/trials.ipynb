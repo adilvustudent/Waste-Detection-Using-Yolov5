{
 "cells": [
  {
   "cell_type": "markdown",
   "metadata": {},
   "source": [
    "\n",
    "------\n",
    "\n",
    "# **`Waste Detection Using Yolov5`**\n",
    "\n",
    "### **Author** : **Muhammad Adil Naeem**\n",
    "### **Contact** : **madilnaeem0@gmail.com**\n",
    "\n",
    "\n",
    "------\n",
    "\n",
    "## **`Objectives:`**\n",
    "\n",
    "- For this Project we will use [Roboflow Data.](https://universe.roboflow.com/material-identification/garbage-classification-3)\n",
    "- I have already Downladed data in **Yolov5** compatible format.\n",
    "- In this notebook our main objective will be to load the **Data** from **Google Drive**.\n",
    "\n",
    "------\n",
    "\n"
   ]
  },
  {
   "cell_type": "markdown",
   "metadata": {},
   "source": [
    "### **Import Required Libraries**"
   ]
  },
  {
   "cell_type": "code",
   "execution_count": 2,
   "metadata": {},
   "outputs": [],
   "source": [
    "import os\n",
    "import gdown"
   ]
  },
  {
   "cell_type": "markdown",
   "metadata": {},
   "source": [
    "### **Change Directory for Data Loading**"
   ]
  },
  {
   "cell_type": "code",
   "execution_count": 3,
   "metadata": {},
   "outputs": [],
   "source": [
    "os.chdir(\"../\")"
   ]
  },
  {
   "cell_type": "code",
   "execution_count": 4,
   "metadata": {},
   "outputs": [
    {
     "name": "stdout",
     "output_type": "stream",
     "text": [
      "/workspaces/Waste-Detection-Using-Yolov5\n"
     ]
    }
   ],
   "source": [
    "# check current directory\n",
    "!pwd"
   ]
  },
  {
   "cell_type": "markdown",
   "metadata": {},
   "source": [
    "### **Set `gdrive` url of Data**"
   ]
  },
  {
   "cell_type": "code",
   "execution_count": 6,
   "metadata": {},
   "outputs": [],
   "source": [
    "url = \"https://drive.google.com/file/d/1LWrgBqBstXKmLr1q9f4cI_BHnWSi-Bbf/view?usp=sharing\""
   ]
  },
  {
   "cell_type": "markdown",
   "metadata": {},
   "source": [
    "### **Select `id` of data from Link**"
   ]
  },
  {
   "cell_type": "code",
   "execution_count": 8,
   "metadata": {},
   "outputs": [
    {
     "data": {
      "text/plain": [
       "'1LWrgBqBstXKmLr1q9f4cI_BHnWSi-Bbf'"
      ]
     },
     "execution_count": 8,
     "metadata": {},
     "output_type": "execute_result"
    }
   ],
   "source": [
    "# Split the URL string by the \"/\" character and get the last second element.\n",
    "# This typically represents the file ID in a specific URL structure.\n",
    "file_id = url.split(\"/\")[-2]\n",
    "\n",
    "# Store the extracted file ID in the variable 'file_id'.\n",
    "file_id"
   ]
  },
  {
   "cell_type": "markdown",
   "metadata": {},
   "source": [
    "### **Download `Dataset` from `Google Drive`**"
   ]
  },
  {
   "cell_type": "code",
   "execution_count": 9,
   "metadata": {},
   "outputs": [
    {
     "name": "stderr",
     "output_type": "stream",
     "text": [
      "Downloading...\n",
      "From (original): https://drive.google.com/uc?/export=download&id=1LWrgBqBstXKmLr1q9f4cI_BHnWSi-Bbf\n",
      "From (redirected): https://drive.google.com/uc?/export=download&id=1LWrgBqBstXKmLr1q9f4cI_BHnWSi-Bbf&confirm=t&uuid=aae57149-c8e9-4e30-8018-b70f203dbe88\n",
      "To: /workspaces/Waste-Detection-Using-Yolov5/data/GARBAGE CLASSIFICATION.zip\n",
      "100%|██████████| 211M/211M [00:05<00:00, 40.2MB/s] \n"
     ]
    },
    {
     "data": {
      "text/plain": [
       "'data/GARBAGE CLASSIFICATION.zip'"
      ]
     },
     "execution_count": 9,
     "metadata": {},
     "output_type": "execute_result"
    }
   ],
   "source": [
    "# Define the base URL for downloading files from Google Drive.\n",
    "# The URL includes the necessary parameters for export and the file ID.\n",
    "prefix = 'https://drive.google.com/uc?/export=download&id='\n",
    "\n",
    "# Use the gdown library to download the file from Google Drive.\n",
    "# The complete URL is formed by concatenating the prefix with the file ID.\n",
    "# The downloaded file will be saved in the \"data\" directory with the name \"GARBAGE CLASSIFICATION.zip\".\n",
    "gdown.download(prefix + file_id, \"data/GARBAGE CLASSIFICATION.zip\")"
   ]
  },
  {
   "cell_type": "markdown",
   "metadata": {},
   "source": [
    "----"
   ]
  }
 ],
 "metadata": {
  "kernelspec": {
   "display_name": "venv",
   "language": "python",
   "name": "python3"
  },
  "language_info": {
   "codemirror_mode": {
    "name": "ipython",
    "version": 3
   },
   "file_extension": ".py",
   "mimetype": "text/x-python",
   "name": "python",
   "nbconvert_exporter": "python",
   "pygments_lexer": "ipython3",
   "version": "3.7.16"
  }
 },
 "nbformat": 4,
 "nbformat_minor": 2
}
